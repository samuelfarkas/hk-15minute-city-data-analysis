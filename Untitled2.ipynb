{
 "cells": [
  {
   "cell_type": "code",
   "execution_count": 444,
   "id": "ff48619e-d0ef-4e77-b74e-46e31bdae01b",
   "metadata": {
    "tags": []
   },
   "outputs": [],
   "source": [
    "import pandas as pd\n",
    "import folium\n",
    "from shapely.geometry import shape, Point, Polygon\n",
    "from shapely import wkt\n",
    "from shapely.ops import unary_union"
   ]
  },
  {
   "cell_type": "code",
   "execution_count": 445,
   "id": "84359fb9-a3a1-4a9e-bc89-d9e408043183",
   "metadata": {
    "tags": []
   },
   "outputs": [],
   "source": [
    "data = pd.read_csv(\"POIs_location_catchments.csv\")\n",
    "eligible_types = ['Pošty', 'supermarket', \n",
    "                  'lekáreň', 'ZS_štátna', \n",
    "                  'Všeobecná ambulancia pre dospelých', \n",
    "                  'MHD', 'MS_štátna', 'MS_súkromná', 'MS_cirkevná',\n",
    "                  'convenience', 'Všeobecná ambulancia pre deti', 'Pošty'\n",
    "                 ]\n",
    "\n",
    "mandatory_types = ['MHD', 'supermarket', 'convenience', 'pharmacy', 'Pošty', 'ZS_štátna', 'MS_štátna', 'Všeobecná ambulancia pre dospelých', 'Všeobecná ambulancia pre deti', 'playground']\n",
    "non_mandatory_types = ['MS_súkromná', 'MS_cirkevná', 'parcel_locker', 'fitness_station', 'fitness_fitness', 'bar', 'pub', 'cafe', 'restaurant']\n",
    "eligible_types = mandatory_types + non_mandatory_types\n",
    "filtered_data = data[data['typ_0'].isin(eligible_types) | data['typ_1'].isin(eligible_types)]\n"
   ]
  },
  {
   "cell_type": "code",
   "execution_count": 446,
   "id": "af292f62-8eb9-4a44-83c0-b736ebb05148",
   "metadata": {
    "tags": []
   },
   "outputs": [
    {
     "data": {
      "text/plain": [
       "2694"
      ]
     },
     "execution_count": 446,
     "metadata": {},
     "output_type": "execute_result"
    }
   ],
   "source": [
    "len(filtered_data)"
   ]
  },
  {
   "cell_type": "code",
   "execution_count": 447,
   "id": "90033226-0b06-4bc9-9140-e344fba5ad2e",
   "metadata": {
    "tags": []
   },
   "outputs": [],
   "source": [
    "import rtree\n",
    "def create_polygon_index(polygons):\n",
    "    index = rtree.index.Index()\n",
    "\n",
    "    for i, polygon in enumerate(polygons):\n",
    "        index.insert(i, polygon.bounds)\n",
    "\n",
    "    return index"
   ]
  },
  {
   "cell_type": "code",
   "execution_count": 448,
   "id": "deaf1078-d96c-43fd-a25e-44820c672c11",
   "metadata": {
    "tags": []
   },
   "outputs": [],
   "source": [
    "def count_types(polygon_types, polygon_index, mandatory_types, non_mandatory_types):\n",
    "    mandatory_count = 0\n",
    "    non_mandatory_count = 0\n",
    "    \n",
    "    if polygon_index in polygon_types:\n",
    "        for typ in polygon_types[polygon_index][\"mandatory\"]:\n",
    "            if typ in mandatory_types:\n",
    "                mandatory_count += 1\n",
    "        for typ in polygon_types[polygon_index][\"non_mandatory\"]:\n",
    "            if typ in non_mandatory_types:\n",
    "                non_mandatory_count += 1\n",
    "\n",
    "    return mandatory_count, non_mandatory_count"
   ]
  },
  {
   "cell_type": "code",
   "execution_count": 449,
   "id": "37cbe69e-fa5a-4866-acbf-3e1a203c8500",
   "metadata": {
    "tags": []
   },
   "outputs": [],
   "source": [
    "def precompute_polygon_types(data, polygons, mandatory_types, non_mandatory_types, spatial_index):\n",
    "    polygon_types = {}\n",
    "\n",
    "    for index, row in data.iterrows():\n",
    "        point = Point(row[\"x\"], row[\"y\"])\n",
    "        for polygon_index in spatial_index.intersection(point.bounds):\n",
    "            polygon = polygons[polygon_index]\n",
    "            if polygon.contains(point):\n",
    "                if polygon_index not in polygon_types:\n",
    "                    polygon_types[polygon_index] = {\"mandatory\": set(), \"non_mandatory\": set()}\n",
    "                \n",
    "                if row['typ_0'] in mandatory_types or row['typ_1'] in mandatory_types:\n",
    "                    polygon_types[polygon_index][\"mandatory\"].add(row['typ_0'])\n",
    "                    polygon_types[polygon_index][\"mandatory\"].add(row['typ_1'])\n",
    "                if row['typ_0'] in non_mandatory_types or row['typ_1'] in non_mandatory_types:\n",
    "                    polygon_types[polygon_index][\"non_mandatory\"].add(row['typ_0'])\n",
    "                    polygon_types[polygon_index][\"non_mandatory\"].add(row['typ_1'])\n",
    "\n",
    "    return polygon_types\n"
   ]
  },
  {
   "cell_type": "code",
   "execution_count": null,
   "id": "d62f2935-d83f-4711-86fe-a011a88f272c",
   "metadata": {
    "tags": []
   },
   "outputs": [],
   "source": [
    "def find_non_overlapping_polygons(data, mandatory_types, non_mandatory_types, tolerance, error_tolerance, overlap_threshold, area_threshold):\n",
    "    polygons = [wkt.loads(row[\"poly_15\"]) for _, row in data.iterrows()]\n",
    "    # simplified_polygons = [polygon.simplify(tolerance) for polygon in polygons]\n",
    "    simplified_polygons = polygons\n",
    "    \n",
    "    # Create a spatial index for the polygons\n",
    "    polygon_index = create_polygon_index(simplified_polygons)\n",
    "\n",
    "    # Precompute the types within each polygon\n",
    "    polygon_types = precompute_polygon_types(data, simplified_polygons, mandatory_types, non_mandatory_types, polygon_index)\n",
    "\n",
    "    non_overlapping_polygons = []\n",
    "    bad_regions = []\n",
    "    \n",
    "    for index, polygon in enumerate(simplified_polygons):\n",
    "        # Check if the polygon's area is within the area_threshold\n",
    "        if polygon.area > area_threshold:\n",
    "            continue\n",
    "\n",
    "        mandatory_count, non_mandatory_count = count_types(polygon_types, index, mandatory_types, non_mandatory_types)\n",
    "\n",
    "        # Check if the polygon contains all mandatory types\n",
    "        if mandatory_count < len(mandatory_types):\n",
    "            if(mandatory_count < 4):\n",
    "                bad_regions.append(polygon)\n",
    "            continue\n",
    "\n",
    "        # Check if the polygon contains enough non-mandatory types based on the error_tolerance\n",
    "        if len(non_mandatory_types) - non_mandatory_count > error_tolerance:\n",
    "            continue\n",
    "\n",
    "        overlapping = False\n",
    "        for non_overlapping_polygon in non_overlapping_polygons:\n",
    "            if polygon.overlaps(non_overlapping_polygon):\n",
    "                intersection = polygon.intersection(non_overlapping_polygon)\n",
    "                intersection_area = intersection.area\n",
    "                original_area = polygon.area\n",
    "\n",
    "                # Check if the intersection area is smaller than the overlap_threshold percentage of the original polygon area\n",
    "                if intersection_area / original_area < overlap_threshold:\n",
    "                    overlapping = False\n",
    "                else:\n",
    "                    overlapping = True\n",
    "                    break\n",
    "\n",
    "        if not overlapping:\n",
    "            non_overlapping_polygons.append(polygon)\n",
    "            \n",
    "            \n",
    "        overlapping_bad = False\n",
    "        for bad_overlapping in bad_regions:\n",
    "            if polygon.overlaps(bad_overlapping):\n",
    "                intersection = polygon.intersection(bad_overlapping)\n",
    "                intersection_area = intersection.area\n",
    "                original_area = polygon.area\n",
    "\n",
    "                # Check if the intersection area is smaller than the overlap_threshold percentage of the original polygon area\n",
    "                if intersection_area / original_area < overlap_threshold:\n",
    "                    overlapping_bad = False\n",
    "                else:\n",
    "                    overlapping_bad = True\n",
    "                    break\n",
    "\n",
    "        if not overlapping_bad:\n",
    "            bad_regions.append(polygon)\n",
    "\n",
    "    return non_overlapping_polygons, bad_regions\n"
   ]
  },
  {
   "cell_type": "code",
   "execution_count": null,
   "id": "5d301491-86c4-469e-9f2f-85cd629f2325",
   "metadata": {
    "tags": []
   },
   "outputs": [],
   "source": [
    "m = folium.Map(location=[48.754977, 21.267500], zoom_start=10)\n",
    "\n",
    "# Set the tolerance value\n",
    "tolerance = 0.000001\n",
    "\n",
    "areas = [wkt.loads(row[\"poly_15\"]).area for _, row in filtered_data.iterrows()]\n",
    "average_area = sum(areas) / len(areas)\n",
    "\n",
    "# Find non-overlapping polygons\n",
    "non_overlapping_polygons, bad_regions = find_non_overlapping_polygons(filtered_data, mandatory_types, non_mandatory_types, tolerance, 0, average_area * 1.1 , 0.1)\n",
    "\n",
    "print(f\"Filtered data: {len(filtered_data)} rows\")\n",
    "print(f\"Non-overlapping polygons found: {len(non_overlapping_polygons)}\")\n",
    "\n",
    "for polygon in bad_regions:\n",
    "    folium.Polygon(\n",
    "        locations=[(lat, lon) for lon, lat in list(polygon.exterior.coords)],\n",
    "        color=\"#ff752d\",\n",
    "        fill=True,\n",
    "        fill_color=\"#ff752d\",\n",
    "        fill_opacity=0.2,\n",
    "    ).add_to(m) \n",
    "\n",
    "# Add the polygons to the map\n",
    "for polygon in non_overlapping_polygons:\n",
    "    folium.Polygon(\n",
    "        locations=[(lat, lon) for lon, lat in list(polygon.exterior.coords)],\n",
    "        color=\"#3388ff\",\n",
    "        fill=True,\n",
    "        fill_color=\"#3388ff\",\n",
    "        fill_opacity=0.2,\n",
    "    ).add_to(m)\n",
    "\n",
    "   \n",
    "for index, row in filtered_data.iterrows():\n",
    "    point = Point(row[\"x\"], row[\"y\"])\n",
    "    if any(polygon.contains(point) for polygon in non_overlapping_polygons):\n",
    "        folium.Marker(\n",
    "            location=[row[\"y\"], row[\"x\"]],\n",
    "            popup=f\"{row['name']} ({row['typ_0']}, {row['typ_1']})\"\n",
    "        ).add_to(m)\n"
   ]
  },
  {
   "cell_type": "code",
   "execution_count": null,
   "id": "04b76e25-e232-4c16-a4dc-2b7f8b51761d",
   "metadata": {
    "tags": []
   },
   "outputs": [],
   "source": [
    "m.save('map.html')"
   ]
  },
  {
   "cell_type": "code",
   "execution_count": null,
   "id": "5ac76284-a3e9-4393-abcd-0c09e18ac6bf",
   "metadata": {},
   "outputs": [],
   "source": [
    "print(len(bad_regions))"
   ]
  },
  {
   "cell_type": "code",
   "execution_count": null,
   "id": "8978fcb6-89cf-441d-a73c-a1f431bdd8a9",
   "metadata": {},
   "outputs": [],
   "source": []
  }
 ],
 "metadata": {
  "kernelspec": {
   "display_name": "Python 3 (ipykernel)",
   "language": "python",
   "name": "python3"
  },
  "language_info": {
   "codemirror_mode": {
    "name": "ipython",
    "version": 3
   },
   "file_extension": ".py",
   "mimetype": "text/x-python",
   "name": "python",
   "nbconvert_exporter": "python",
   "pygments_lexer": "ipython3",
   "version": "3.11.2"
  }
 },
 "nbformat": 4,
 "nbformat_minor": 5
}
