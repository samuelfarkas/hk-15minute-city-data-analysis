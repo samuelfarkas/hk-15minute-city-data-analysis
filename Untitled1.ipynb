{
 "cells": [
  {
   "cell_type": "code",
   "execution_count": 406,
   "id": "6a6a2eb9-0573-443f-891f-b373fb78f39b",
   "metadata": {
    "tags": []
   },
   "outputs": [],
   "source": [
    "import pandas as pd\n",
    "import folium\n",
    "from shapely.geometry import Polygon\n",
    "from shapely.wkt import loads\n",
    "import geopandas as gpd\n",
    "from shapely.geometry import MultiPolygon"
   ]
  },
  {
   "cell_type": "code",
   "execution_count": 407,
   "id": "fa8f0ba0-6de8-47ec-a430-89347bb279c5",
   "metadata": {
    "tags": []
   },
   "outputs": [],
   "source": [
    "df = pd.read_csv(\"POIs_location_catchments.csv\")"
   ]
  },
  {
   "cell_type": "code",
   "execution_count": 408,
   "id": "7067ea7a-cc16-4dfe-b7ae-86340d4b0428",
   "metadata": {
    "tags": []
   },
   "outputs": [],
   "source": [
    "necessities_types = {'Pošty', 'supermarket', 'lekáreň', 'ZS_štátna', 'Všeobecná ambulancia pre dospelých', 'MHD'}"
   ]
  },
  {
   "cell_type": "code",
   "execution_count": 443,
   "id": "06719e3e-dc47-47ea-b722-0ca3b5646ded",
   "metadata": {
    "tags": []
   },
   "outputs": [],
   "source": [
    "count = 0\n",
    "map = folium.Map(location=[21.267500, 48.754977], zoom_start=10)\n",
    "all = pd.DataFrame(columns=['name', 'typ_1', 'poly_15'])\n",
    "for index, row in df.iterrows():\n",
    "    selected = df[df['poly_15'] == df.at[index, 'poly_15']]\n",
    "    filtered_df = selected[selected['typ_1'].isin(necessities_types)]\n",
    "    filtered_df = filtered_df.head(1)\n",
    "    if len(filtered_df) > 0:\n",
    "        all = pd.concat([all, filtered_df[['name', 'typ_1', 'poly_15']]], ignore_index=True)\n",
    "        # Reverse the order of each pair of coordinates\n",
    "        # coords = [(lon, lat) if i % 2 == 0 else (lat, lon) for i, (lat, lon) in enumerate(polygon.exterior.coords)]\n",
    "        # Create a Polygon object from the corrected coordinates\n",
    "\n",
    "all = all.drop_duplicates(subset=['poly_15'])\n",
    "all = all.head(10)\n",
    "\n",
    "for index, row in all.iterrows():\n",
    "    polygon = Polygon(loads(row['poly_15']))       \n",
    "    polygon = Polygon(coords)\n",
    "    folium_polygon = folium.vector_layers.Polygon(\n",
    "        locations=[list(coord) for coord in polygon.exterior.coords],\n",
    "        color='blue',\n",
    "        fill=True,\n",
    "        fill_color='lightblue'\n",
    "    )\n",
    "    # all = all.drop_duplicates(subset=['poly_15'], keep='first')\n",
    "    folium_polygon.add_to(map)\n",
    "\n",
    "    \n"
   ]
  },
  {
   "cell_type": "code",
   "execution_count": 412,
   "id": "40982735-4b18-48ce-b4d3-01fa5b59ad64",
   "metadata": {},
   "outputs": [],
   "source": [
    "count = 0"
   ]
  },
  {
   "cell_type": "code",
   "execution_count": null,
   "id": "ca5a7f24-57b9-4334-bfbe-303cf186e134",
   "metadata": {},
   "outputs": [],
   "source": []
  }
 ],
 "metadata": {
  "kernelspec": {
   "display_name": "Python 3 (ipykernel)",
   "language": "python",
   "name": "python3"
  },
  "language_info": {
   "codemirror_mode": {
    "name": "ipython",
    "version": 3
   },
   "file_extension": ".py",
   "mimetype": "text/x-python",
   "name": "python",
   "nbconvert_exporter": "python",
   "pygments_lexer": "ipython3",
   "version": "3.11.2"
  }
 },
 "nbformat": 4,
 "nbformat_minor": 5
}
